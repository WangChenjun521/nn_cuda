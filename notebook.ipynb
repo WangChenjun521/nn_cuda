{
 "cells": [
  {
   "cell_type": "code",
   "execution_count": 25,
   "id": "ce62b9a0",
   "metadata": {},
   "outputs": [
    {
     "name": "stdout",
     "output_type": "stream",
     "text": [
      "running install\n",
      "/home/wangchenjun/.conda/envs/NNRT/lib/python3.8/site-packages/setuptools/command/install.py:34: SetuptoolsDeprecationWarning: setup.py install is deprecated. Use build and pip and other standards-based tools.\n",
      "  warnings.warn(\n",
      "/home/wangchenjun/.conda/envs/NNRT/lib/python3.8/site-packages/setuptools/command/easy_install.py:144: EasyInstallDeprecationWarning: easy_install command is deprecated. Use build and pip and other standards-based tools.\n",
      "  warnings.warn(\n",
      "running bdist_egg\n",
      "running egg_info\n",
      "writing nn_cuda.egg-info/PKG-INFO\n",
      "writing dependency_links to nn_cuda.egg-info/dependency_links.txt\n",
      "writing top-level names to nn_cuda.egg-info/top_level.txt\n",
      "reading manifest file 'nn_cuda.egg-info/SOURCES.txt'\n",
      "adding license file 'LICENSE'\n",
      "writing manifest file 'nn_cuda.egg-info/SOURCES.txt'\n",
      "installing library code to build/bdist.linux-x86_64/egg\n",
      "running install_lib\n",
      "running build_ext\n",
      "/home/wangchenjun/.conda/envs/NNRT/lib/python3.8/site-packages/torch/utils/cpp_extension.py:782: UserWarning: The detected CUDA version (11.0) has a minor version mismatch with the version that was used to compile PyTorch (11.3). Most likely this shouldn't be a problem.\n",
      "  warnings.warn(CUDA_MISMATCH_WARN.format(cuda_str_version, torch.version.cuda))\n",
      "building 'nn_cuda' extension\n",
      "Emitting ninja build file /home/wangchenjun/code/NN-CUDA-Example/build/temp.linux-x86_64-cpython-38/build.ninja...\n",
      "Compiling objects...\n",
      "Allowing ninja to set a default number of workers... (overridable by setting the environment variable MAX_JOBS=N)\n",
      "ninja: no work to do.\n",
      "g++ -pthread -B /home/wangchenjun/.conda/envs/NNRT/compiler_compat -Wl,--sysroot=/ -pthread -shared -B /home/wangchenjun/.conda/envs/NNRT/compiler_compat -L/home/wangchenjun/.conda/envs/NNRT/lib -Wl,-rpath=/home/wangchenjun/.conda/envs/NNRT/lib -Wl,--no-as-needed -Wl,--sysroot=/ /home/wangchenjun/code/NN-CUDA-Example/build/temp.linux-x86_64-cpython-38/kernel/add2_kernel.o /home/wangchenjun/code/NN-CUDA-Example/build/temp.linux-x86_64-cpython-38/kernel/compute_distance.o /home/wangchenjun/code/NN-CUDA-Example/build/temp.linux-x86_64-cpython-38/pytorch/nn_cuda_ops.o -L/home/wangchenjun/.conda/envs/NNRT/lib/python3.8/site-packages/torch/lib -L/usr/local/cuda-11.0/lib64 -lc10 -ltorch -ltorch_cpu -ltorch_python -lcudart -lc10_cuda -ltorch_cuda_cu -ltorch_cuda_cpp -o build/lib.linux-x86_64-cpython-38/nn_cuda.cpython-38-x86_64-linux-gnu.so\n",
      "creating build/bdist.linux-x86_64/egg\n",
      "copying build/lib.linux-x86_64-cpython-38/nn_cuda.cpython-38-x86_64-linux-gnu.so -> build/bdist.linux-x86_64/egg\n",
      "creating stub loader for nn_cuda.cpython-38-x86_64-linux-gnu.so\n",
      "byte-compiling build/bdist.linux-x86_64/egg/nn_cuda.py to nn_cuda.cpython-38.pyc\n",
      "creating build/bdist.linux-x86_64/egg/EGG-INFO\n",
      "copying nn_cuda.egg-info/PKG-INFO -> build/bdist.linux-x86_64/egg/EGG-INFO\n",
      "copying nn_cuda.egg-info/SOURCES.txt -> build/bdist.linux-x86_64/egg/EGG-INFO\n",
      "copying nn_cuda.egg-info/dependency_links.txt -> build/bdist.linux-x86_64/egg/EGG-INFO\n",
      "copying nn_cuda.egg-info/top_level.txt -> build/bdist.linux-x86_64/egg/EGG-INFO\n",
      "writing build/bdist.linux-x86_64/egg/EGG-INFO/native_libs.txt\n",
      "zip_safe flag not set; analyzing archive contents...\n",
      "__pycache__.nn_cuda.cpython-38: module references __file__\n",
      "creating 'dist/nn_cuda-0.0.0-py3.8-linux-x86_64.egg' and adding 'build/bdist.linux-x86_64/egg' to it\n",
      "removing 'build/bdist.linux-x86_64/egg' (and everything under it)\n",
      "Processing nn_cuda-0.0.0-py3.8-linux-x86_64.egg\n",
      "removing '/home/wangchenjun/.conda/envs/NNRT/lib/python3.8/site-packages/nn_cuda-0.0.0-py3.8-linux-x86_64.egg' (and everything under it)\n",
      "creating /home/wangchenjun/.conda/envs/NNRT/lib/python3.8/site-packages/nn_cuda-0.0.0-py3.8-linux-x86_64.egg\n",
      "Extracting nn_cuda-0.0.0-py3.8-linux-x86_64.egg to /home/wangchenjun/.conda/envs/NNRT/lib/python3.8/site-packages\n",
      "nn-cuda 0.0.0 is already the active version in easy-install.pth\n",
      "\n",
      "Installed /home/wangchenjun/.conda/envs/NNRT/lib/python3.8/site-packages/nn_cuda-0.0.0-py3.8-linux-x86_64.egg\n",
      "Processing dependencies for nn-cuda==0.0.0\n",
      "Finished processing dependencies for nn-cuda==0.0.0\n"
     ]
    }
   ],
   "source": [
    "!python pytorch/setup.py install"
   ]
  },
  {
   "cell_type": "code",
   "execution_count": 26,
   "id": "e6b48e45",
   "metadata": {},
   "outputs": [
    {
     "name": "stdout",
     "output_type": "stream",
     "text": [
      "Running cuda...\r\n",
      "Cuda time:  41.127us\r\n",
      "Running torch...\r\n",
      "Torch time:  44.751us\r\n",
      "tensor([0.8383, 0.1594, 0.1952,  ..., 0.9980, 0.8150, 0.3366], device='cuda:0')\r\n",
      "tensor([0.5347, 0.7128, 0.4732,  ..., 0.3062, 0.2928, 0.8278], device='cuda:0')\r\n",
      "tensor([1.3729, 0.8722, 0.6684,  ..., 1.3043, 1.1078, 1.1644], device='cuda:0')\r\n"
     ]
    }
   ],
   "source": [
    "!python python/main2.py"
   ]
  },
  {
   "cell_type": "code",
   "execution_count": 27,
   "id": "b7d0c9f1",
   "metadata": {},
   "outputs": [
    {
     "name": "stdout",
     "output_type": "stream",
     "text": [
      "[master c8d5ee9] auto update\n",
      " 5 files changed, 277 insertions(+), 128 deletions(-)\n",
      " create mode 100644 .ipynb_checkpoints/notebook-checkpoint.ipynb\n",
      " create mode 100644 .vscode/settings.json\n",
      " rewrite kernel/add2_kernel.cu (68%)\n",
      " create mode 100644 notebook.ipynb\n",
      "对象计数中: 11, 完成.\n",
      "Delta compression using up to 12 threads.\n",
      "压缩对象中: 100% (9/9), 完成.\n",
      "写入对象中: 100% (11/11), 3.41 KiB | 872.00 KiB/s, 完成.\n",
      "Total 11 (delta 2), reused 0 (delta 0)\n",
      "remote: Resolving deltas: 100% (2/2), completed with 2 local objects.\u001b[K\n",
      "To github.com:WangChenjun521/nn_cuda.git\n",
      "   905386e..c8d5ee9  master -> master\n"
     ]
    }
   ],
   "source": [
    "!git add .\n",
    "!git commit -m \"auto update\"\n",
    "!git push origin master"
   ]
  },
  {
   "cell_type": "code",
   "execution_count": null,
   "id": "d86002ef",
   "metadata": {},
   "outputs": [],
   "source": []
  }
 ],
 "metadata": {
  "kernelspec": {
   "display_name": "Python 3",
   "language": "python",
   "name": "python3"
  },
  "language_info": {
   "codemirror_mode": {
    "name": "ipython",
    "version": 3
   },
   "file_extension": ".py",
   "mimetype": "text/x-python",
   "name": "python",
   "nbconvert_exporter": "python",
   "pygments_lexer": "ipython3",
   "version": "3.8.10"
  }
 },
 "nbformat": 4,
 "nbformat_minor": 5
}
