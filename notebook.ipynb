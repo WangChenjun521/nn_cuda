{
 "cells": [
  {
   "cell_type": "code",
   "execution_count": 49,
   "id": "8b6cf1a6",
   "metadata": {},
   "outputs": [],
   "source": [
    "%%capture\n",
    "!python pytorch/setup.py install"
   ]
  },
  {
   "cell_type": "code",
   "execution_count": 50,
   "id": "4aee43d5",
   "metadata": {},
   "outputs": [
    {
     "name": "stdout",
     "output_type": "stream",
     "text": [
      "Running cuda...\r\n",
      "Cuda time:  41.080us\r\n",
      "Running torch...\r\n",
      "Torch time:  44.703us\r\n",
      "tensor([0.5963, 0.1389, 0.6208,  ..., 0.5762, 0.7781, 0.1635], device='cuda:0')\r\n",
      "tensor([0.1870, 0.9347, 0.5460,  ..., 0.6332, 0.0193, 0.9252], device='cuda:0')\r\n",
      "tensor([0.7833, 1.0735, 1.1668,  ..., 1.2094, 0.7973, 1.0887], device='cuda:0')\r\n"
     ]
    }
   ],
   "source": [
    "!python python/main2.py"
   ]
  },
  {
   "cell_type": "code",
   "execution_count": 33,
   "id": "8bcae034",
   "metadata": {},
   "outputs": [],
   "source": [
    "# !git status\n",
    "# !git add .\n",
    "# !git commit -m \"auto update\"\n",
    "# !git push origin master"
   ]
  },
  {
   "cell_type": "code",
   "execution_count": null,
   "id": "07b4ed11",
   "metadata": {},
   "outputs": [],
   "source": []
  }
 ],
 "metadata": {
  "kernelspec": {
   "display_name": "Python 3",
   "language": "python",
   "name": "python3"
  },
  "language_info": {
   "codemirror_mode": {
    "name": "ipython",
    "version": 3
   },
   "file_extension": ".py",
   "mimetype": "text/x-python",
   "name": "python",
   "nbconvert_exporter": "python",
   "pygments_lexer": "ipython3",
   "version": "3.8.10"
  }
 },
 "nbformat": 4,
 "nbformat_minor": 5
}
